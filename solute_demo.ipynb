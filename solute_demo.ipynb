{
 "cells": [
  {
   "cell_type": "markdown",
   "metadata": {},
   "source": [
    "This program is part of pyHNC, copyright (c) 2023 Patrick B Warren (STFC).\n",
    "Email: patrick.warren{at}stfc.ac.uk.\n",
    "\n",
    "This program is free software: you can redistribute it and/or modify\n",
    "it under the terms of the GNU General Public License as published by\n",
    "the Free Software Foundation, either version 3 of the License, or\n",
    "(at your option) any later version.\n",
    "\n",
    "This program is distributed in the hope that it will be useful, but\n",
    "WITHOUT ANY WARRANTY; without even the implied warranty of\n",
    "MERCHANTABILITY or FITNESS FOR A PARTICULAR PURPOSE.  See the GNU\n",
    "General Public License for more details.\n",
    "\n",
    "You should have received a copy of the GNU General Public License\n",
    "along with this program.  If not, see\n",
    "<http://www.gnu.org/licenses/>.\n",
    "\n",
    "Demonstrate the capabilities of the HNC package for solving DPD\n",
    "potentials, comparing with SunlightHNC if requested, and plotting\n",
    "the pair distribution function and the structure factor too.  For\n",
    "details here see also the SunlightHNC documentation.\n",
    "\n",
    "For standard DPD at $A = 25$ and $ρ = 3$, we have the following table\n",
    "\n",
    "```\n",
    "          ∆t = 0.02   ∆t = 0.01   Monte-Carlo  HNC   deviation\n",
    "pressure  23.73±0.02  23.69±0.02  23.65±0.02   23.564  (0.4%)\n",
    "energy    13.66±0.02  13.64±0.02  13.63±0.02   13.762  (1.0%)\n",
    "mu^ex     12.14±0.02  12.16±0.02  12.25±0.10   12.170  (0.7%)\n",
    "```\n",
    "\n",
    "\n",
    "The first two columns are from dynamic simulations.  The excess\n",
    "chemical potential (final row) is measured by Widom insertion.  The\n",
    "HNC results from the present code are in agreement with those from\n",
    "SunlightHNC to at least the indicated number of decimals.  The\n",
    "deviation is between HNC and simulation results.\n",
    "\n",
    "Data is from a forthcoming publication on osmotic pressure in DPD."
   ]
  },
  {
   "cell_type": "markdown",
   "metadata": {},
   "source": [
    "## Standard modules"
   ]
  },
  {
   "cell_type": "code",
   "execution_count": 1,
   "metadata": {},
   "outputs": [],
   "source": [
    "import os\n",
    "import pyHNC\n",
    "import argparse\n",
    "import numpy as np\n",
    "from numpy import pi as π\n",
    "from pyHNC import Grid, PicardHNC, truncate_to_zero"
   ]
  },
  {
   "cell_type": "markdown",
   "metadata": {},
   "source": [
    "## Global parameters"
   ]
  },
  {
   "cell_type": "code",
   "execution_count": 2,
   "metadata": {},
   "outputs": [],
   "source": [
    "N = 8192\n",
    "Δr = 0.02\n",
    "grid = Grid(N, Δr)\n",
    "r, q = grid.r, grid.q\n",
    "\n",
    "verbose = True\n",
    "\n",
    "alpha = 0.2\n",
    "npicard = 500\n",
    "tol = 1e-12\n",
    "solver = PicardHNC(grid, alpha=alpha, npicard=npicard, tol=tol)"
   ]
  },
  {
   "cell_type": "markdown",
   "metadata": {},
   "source": [
    "# 1. Solve for pure solvent"
   ]
  },
  {
   "cell_type": "markdown",
   "metadata": {},
   "source": [
    "Define interaction parameters:"
   ]
  },
  {
   "cell_type": "code",
   "execution_count": 3,
   "metadata": {},
   "outputs": [],
   "source": [
    "def dpd_potential(A, r):\n",
    "    \"\"\"Define the DPD potential.\"\"\"\n",
    "    return truncate_to_zero(A/2*(1-r)**2, r, 1)\n",
    "\n",
    "def dpd_force(A, r):\n",
    "    \"\"\"Define dereivative of the DPD potential.\"\"\"\n",
    "    return truncate_to_zero(A*(1-r), r, 1) # the force f = -dφ/dr\n",
    "\n",
    "# Parameters for solvent-solvent interactions\n",
    "A00 = 25\n",
    "ρ0 = 3.0\n",
    "φ0, f0 = dpd_potential(A00, r), dpd_force(A00, r)"
   ]
  },
  {
   "cell_type": "markdown",
   "metadata": {},
   "source": [
    "Solve for $h(r)$ via Picard iteration with HNC closure:"
   ]
  },
  {
   "cell_type": "code",
   "execution_count": 4,
   "metadata": {},
   "outputs": [
    {
     "name": "stdout",
     "output_type": "stream",
     "text": [
      "pyHNC.solve: Picard iteration   0, error = 8.114e-01\n",
      "pyHNC.solve: Picard iteration  50, error = 5.533e-03\n",
      "pyHNC.solve: Picard iteration 100, error = 1.298e-04\n",
      "pyHNC.solve: Picard iteration 150, error = 3.099e-06\n",
      "pyHNC.solve: Picard iteration 200, error = 7.400e-08\n",
      "pyHNC.solve: Picard iteration 250, error = 1.767e-09\n",
      "pyHNC.solve: Picard iteration 300, error = 4.220e-11\n",
      "pyHNC.solve: Picard iteration 350, error = 1.009e-12\n",
      "pyHNC.solve: Picard iteration 351, error = 9.364e-13\n",
      "pyHNC.solve: Picard converged\n"
     ]
    }
   ],
   "source": [
    "soln = solver.solve(φ0, ρ0, monitor=verbose) # solve for the DPD potential\n",
    "h00, c00, hq00 = soln.hr, soln.cr, soln.hq # extract for use in a moment\n"
   ]
  },
  {
   "cell_type": "markdown",
   "metadata": {},
   "source": [
    "Calculate thermodynamic quantities using the total correlation function $h(r)$.\n",
    "\n",
    "For the integrals here, see Eqs. (2.5.20) and (2.5.22) in Hansen & McDonald, \"Theory of Simple Liquids\" (3rd edition): for the (excess) energy density,\n",
    "$$\n",
    "e = 2\\pi\\rho^2 \\int_0^\\infty \\mathrm{d}r \\, r^2 \\phi(r) g(r)\n",
    "$$\n",
    "and virial pressure,\n",
    "$$\n",
    "p = \\rho + \\frac{2\\phi\\rho^3}{3} \\int_0^\\infty \\mathrm{d}r \\, r^3 f(r) g(r)\n",
    "$$\n",
    "where $f(r) = −\\mathrm{d}\\phi/\\mathrm{d}r$ is the force. Note that we have assumed $\\beta = 1$ above. An integration by parts shows that the mean-field contributions, being these with g(r) = 1, are the same.\n",
    "\n",
    "Here specifically the mean-field contributions are\n",
    "$$\n",
    "\\frac{2\\pi \\rho^3}{3} \\int_0^\\infty \\mathrm{d}r \\, r^3 f(r) = A \\int_0^1 \\mathrm{d}r \\, r^3 (1−r) = \\frac{\\pi A \\rho^3}{30} \\,.\n",
    "$$"
   ]
  },
  {
   "cell_type": "code",
   "execution_count": 5,
   "metadata": {},
   "outputs": [
    {
     "name": "stdout",
     "output_type": "stream",
     "text": [
      "μ=13.2687 μ_ex=12.1701 μ_id=1.0986\n"
     ]
    }
   ],
   "source": [
    "e_mf = p_mf = π*A00*ρ0**2/30\n",
    "\n",
    "e_xc = 2*π*ρ0**2 * np.trapz(r**2*φ0*h00, dx=Δr)\n",
    "e_ex = e_mf + e_xc\n",
    "e = 3*ρ0/2 + e_ex\n",
    "\n",
    "p_xc = 2*π*ρ0**2/3 * np.trapz(r**3*f0*h00, dx=Δr)\n",
    "p_ex = p_mf + p_xc\n",
    "p = ρ0 + p_ex\n",
    "\n",
    "μ_ex = 4*π*ρ0 * np.trapz(r**2*(h00*(h00-c00)/2 - c00), dx=Δr)\n",
    "μ = np.log(ρ0) + μ_ex\n",
    "\n",
    "print(f'μ={μ:.4f} μ_ex={μ_ex:.4f} μ_id={μ-μ_ex:.4f}')"
   ]
  },
  {
   "cell_type": "markdown",
   "metadata": {},
   "source": [
    "# 2. Introduce solute"
   ]
  },
  {
   "cell_type": "code",
   "execution_count": null,
   "metadata": {},
   "outputs": [],
   "source": []
  }
 ],
 "metadata": {
  "kernelspec": {
   "display_name": "Python 3",
   "language": "python",
   "name": "python3"
  },
  "language_info": {
   "codemirror_mode": {
    "name": "ipython",
    "version": 3
   },
   "file_extension": ".py",
   "mimetype": "text/x-python",
   "name": "python",
   "nbconvert_exporter": "python",
   "pygments_lexer": "ipython3",
   "version": "3.13.0"
  }
 },
 "nbformat": 4,
 "nbformat_minor": 2
}
