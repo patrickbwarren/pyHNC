{
 "cells": [
  {
   "cell_type": "markdown",
   "metadata": {},
   "source": [
    "This program is part of pyHNC, copyright (c) 2023 Patrick B Warren (STFC).\n",
    "Additional modifications copyright (c) 2025 Joshua F Robinson (STFC).\n",
    "Email: patrick.warren{at}stfc.ac.uk.\n",
    "\n",
    "This program is free software: you can redistribute it and/or modify\n",
    "it under the terms of the GNU General Public License as published by\n",
    "the Free Software Foundation, either version 3 of the License, or\n",
    "(at your option) any later version.\n",
    "\n",
    "This program is distributed in the hope that it will be useful, but\n",
    "WITHOUT ANY WARRANTY; without even the implied warranty of\n",
    "MERCHANTABILITY or FITNESS FOR A PARTICULAR PURPOSE.  See the GNU\n",
    "General Public License for more details.\n",
    "\n",
    "You should have received a copy of the GNU General Public License\n",
    "along with this program.  If not, see\n",
    "<http://www.gnu.org/licenses/>.\n",
    "\n",
    "Demonstrate the capabilities of the HNC package for solving DPD\n",
    "potentials, comparing with SunlightHNC if requested, and plotting\n",
    "the pair distribution function and the structure factor too.  For\n",
    "details here see also the SunlightHNC documentation.\n",
    "\n",
    "For standard DPD at $A = 25$ and $ρ = 3$, we have the following table\n",
    "\n",
    "```\n",
    "          ∆t = 0.02   ∆t = 0.01   Monte-Carlo  HNC   deviation\n",
    "pressure  23.73±0.02  23.69±0.02  23.65±0.02   23.564  (0.4%)\n",
    "energy    13.66±0.02  13.64±0.02  13.63±0.02   13.762  (1.0%)\n",
    "mu^ex     12.14±0.02  12.16±0.02  12.25±0.10   12.170  (0.7%)\n",
    "```\n",
    "\n",
    "\n",
    "The first two columns are from dynamic simulations.  The excess\n",
    "chemical potential (final row) is measured by Widom insertion.  The\n",
    "HNC results from the present code are in agreement with those from\n",
    "SunlightHNC to at least the indicated number of decimals.  The\n",
    "deviation is between HNC and simulation results.\n",
    "\n",
    "Data is from a forthcoming publication on osmotic pressure in DPD."
   ]
  },
  {
   "cell_type": "markdown",
   "metadata": {},
   "source": [
    "## Standard modules"
   ]
  },
  {
   "cell_type": "code",
   "execution_count": 1,
   "metadata": {},
   "outputs": [],
   "source": [
    "import os\n",
    "import pyHNC\n",
    "import argparse\n",
    "import numpy as np, matplotlib.pyplot as plt\n",
    "from numpy import pi as π\n",
    "from scipy.integrate import simpson\n",
    "from pyHNC import Grid, PicardHNC, SolutePicardHNC, truncate_to_zero"
   ]
  },
  {
   "cell_type": "markdown",
   "metadata": {},
   "source": [
    "## Global parameters"
   ]
  },
  {
   "cell_type": "code",
   "execution_count": 2,
   "metadata": {},
   "outputs": [],
   "source": [
    "N = 2**13\n",
    "Δr = 0.02\n",
    "grid = Grid(N, Δr)\n",
    "r, q = grid.r, grid.q\n",
    "\n",
    "verbose = False\n",
    "\n",
    "alpha = 0.2\n",
    "npicard = 1000\n",
    "tol = 1e-12\n",
    "solvent = PicardHNC(grid, alpha=alpha, npicard=npicard, tol=tol)"
   ]
  },
  {
   "cell_type": "markdown",
   "metadata": {},
   "source": [
    "# 1. Solve for pure solvent"
   ]
  },
  {
   "cell_type": "markdown",
   "metadata": {},
   "source": [
    "Define interaction parameters:"
   ]
  },
  {
   "cell_type": "code",
   "execution_count": 3,
   "metadata": {},
   "outputs": [],
   "source": [
    "def dpd_potential(A, r):\n",
    "    \"\"\"Define the DPD potential.\"\"\"\n",
    "    return truncate_to_zero(A/2*(1-r)**2, r, 1)\n",
    "\n",
    "def dpd_force(A, r):\n",
    "    \"\"\"Define dereivative of the DPD potential.\"\"\"\n",
    "    return truncate_to_zero(A*(1-r), r, 1) # the force f = -dφ/dr\n",
    "\n",
    "# Parameters for solvent-solvent interactions\n",
    "A00 = 25\n",
    "ρ0 = 3.0\n",
    "φ0, f0 = dpd_potential(A00, r), dpd_force(A00, r)"
   ]
  },
  {
   "cell_type": "markdown",
   "metadata": {},
   "source": [
    "Solve for $h(r)$ via Picard iteration with HNC closure:"
   ]
  },
  {
   "cell_type": "code",
   "execution_count": 4,
   "metadata": {},
   "outputs": [
    {
     "data": {
      "image/png": "[encoded data removed]",
      "text/plain": [
       "<Figure size 432x288 with 1 Axes>"
      ]
     },
     "metadata": {
      "needs_background": "light"
     },
     "output_type": "display_data"
    }
   ],
   "source": [
    "soln = solvent.solve(φ0, ρ0, monitor=verbose) # solve for the DPD potential\n",
    "h00, c00, h00q = soln.hr, soln.cr, soln.hq # extract for use in a moment\n",
    "\n",
    "plt.plot(r, 1+h00)\n",
    "plt.xlabel('$r$')\n",
    "plt.ylabel('$g(r)$')\n",
    "plt.xlim([0, 3])\n",
    "plt.show()"
   ]
  },
  {
   "cell_type": "markdown",
   "metadata": {},
   "source": [
    "Calculate thermodynamic quantities using the total correlation function $h(r)$.\n",
    "\n",
    "For the integrals here, see Eqs. (2.5.20) and (2.5.22) in Hansen & McDonald, \"Theory of Simple Liquids\" (3rd edition): for the (excess) energy density,\n",
    "$$\n",
    "e \\equiv \\frac{U^\\mathrm{ex}}{V} = 2\\pi\\rho^2 \\int_0^\\infty \\mathrm{d}r \\, r^2 \\phi(r) g(r)\n",
    "$$\n",
    "and virial pressure,\n",
    "$$\n",
    "p = \\rho + \\frac{2\\pi\\rho^2}{3} \\int_0^\\infty \\mathrm{d}r \\, r^3 f(r) g(r)\n",
    "$$\n",
    "where $f(r) = −\\mathrm{d}\\phi/\\mathrm{d}r$ is the force. Note that we have assumed $\\beta = 1$ in our expressions, so energy is given in units of $k_\\mathrm{B} T$. An integration by parts shows that the mean-field contributions, being these with g(r) = 1, are the same.\n",
    "\n",
    "Here specifically the mean-field contributions are\n",
    "$$\n",
    "\\frac{2\\pi \\rho^3}{3} \\int_0^\\infty \\mathrm{d}r \\, r^3 f(r) = A \\int_0^1 \\mathrm{d}r \\, r^3 (1−r) = \\frac{\\pi A \\rho^3}{30} \\,.\n",
    "$$"
   ]
  },
  {
   "cell_type": "code",
   "execution_count": 5,
   "metadata": {},
   "outputs": [
    {
     "name": "stdout",
     "output_type": "stream",
     "text": [
      "μ=13.2689 μ_ex=12.1703 μ_id=1.0986\n"
     ]
    }
   ],
   "source": [
    "# e_mf = p_mf = π*A00*ρ0**2/30\n",
    "\n",
    "# e_xc = 2*π*ρ0**2 * np.trapz(r**2*φ0*h00, dx=Δr)\n",
    "# e_ex = e_mf + e_xc\n",
    "# e = 3*ρ0/2 + e_ex\n",
    "\n",
    "# p_xc = 2*π*ρ0**2/3 * np.trapz(r**3*f0*h00, dx=Δr)\n",
    "# p_ex = p_mf + p_xc\n",
    "# p = ρ0 + p_ex\n",
    "\n",
    "def excess_chemical_potential(h, c, r):\n",
    "    return 4*π*ρ0 * simpson(r**2*(h*(h-c)/2 - c), r)\n",
    "\n",
    "μ_ex = excess_chemical_potential(h00, c00, r)\n",
    "μ = np.log(ρ0) + μ_ex\n",
    "print(f'μ={μ:.4f} μ_ex={μ_ex:.4f} μ_id={μ-μ_ex:.4f}')"
   ]
  },
  {
   "cell_type": "markdown",
   "metadata": {},
   "source": [
    "# 2. Introduce solute"
   ]
  },
  {
   "cell_type": "markdown",
   "metadata": {},
   "source": [
    "We need to use a different solver that takes into account that this is now a binary mixture where the second species (the solute) is infinitely dilute. We need to pass the previously obtained static properties of the solvent."
   ]
  },
  {
   "cell_type": "code",
   "execution_count": 6,
   "metadata": {},
   "outputs": [],
   "source": [
    "solute = SolutePicardHNC(ρ0*h00q, grid, alpha=alpha, npicard=npicard, tol=tol)"
   ]
  },
  {
   "cell_type": "markdown",
   "metadata": {},
   "source": [
    "Show how the distribution function $g_{01}$ between solvent (species 0) and solute (species 1) varies with DPD interaction parameter $A_{01}$. We can also infer $g_{11}$ directly from $g_{01}$ and thereby calculate the potential of mean force between two solute particles:\n",
    "$$\n",
    "- \\ln{g_{11}(r)} = \\beta \\phi_{11}(r) + \\beta \\Delta \\Omega_{11}(r)\\,.\n",
    "$$\n",
    "Here $\\beta \\Delta \\Omega_{11}$ is the depletion potential between solutes."
   ]
  },
  {
   "cell_type": "code",
   "execution_count": 7,
   "metadata": {},
   "outputs": [
    {
     "data": {
      "image/png": "[encoded data removed]",
      "text/plain": [
       "<Figure size 243x216 with 1 Axes>"
      ]
     },
     "metadata": {
      "needs_background": "light"
     },
     "output_type": "display_data"
    },
    {
     "data": {
      "image/png": "[encoded data removed]",
      "text/plain": [
       "<Figure size 243x216 with 1 Axes>"
      ]
     },
     "metadata": {
      "needs_background": "light"
     },
     "output_type": "display_data"
    }
   ],
   "source": [
    "fig1 = plt.figure(figsize=(3.375, 3))\n",
    "ax1 = plt.gca()\n",
    "fig2 = plt.figure(figsize=(3.375, 3))\n",
    "ax2 = plt.gca()\n",
    "\n",
    "ax1.plot(r, 1+h00, label=(r'$g_{00}(r; A_{00}=' + f'{A00})$'))\n",
    "\n",
    "for A01 in np.arange(2*A00, 151, 25):\n",
    "    φ01 = dpd_potential(A01, r)\n",
    "    soln = solute.solve(φ01, monitor=verbose)\n",
    "    h01, c01, hq01 = soln.hr, soln.cr, soln.hq\n",
    "    ax1.plot(r, 1+h01, label=(r'$g_{01}(r; A_{01}=' + f'{A01})$'))\n",
    "\n",
    "    cq01 = grid.fourier_bessel_forward(c01)\n",
    "    depletion11 = - ρ0 * grid.fourier_bessel_backward(cq01 * hq01)\n",
    "    ax2.plot(r, depletion11, label=(r'$A_{01}=' + f'{A01}$'))\n",
    "\n",
    "for ax in [ax1, ax2]:\n",
    "    ax.legend(loc='best', fontsize=8)\n",
    "    ax.set_xlabel('$r$')\n",
    "    ax.set_xlim([0, 3])\n",
    "\n",
    "ax1.set_ylabel('$g(r)$')\n",
    "ax2.set_ylabel(r'$\\beta \\Delta \\Omega_{11}(r)$')\n",
    "\n",
    "fig1.show()\n",
    "fig2.show()"
   ]
  },
  {
   "cell_type": "markdown",
   "metadata": {},
   "source": [
    "Calculate excess chemical potentials for solutes with varying solvent-solute interaction parameters $A_{01}$:"
   ]
  },
  {
   "cell_type": "code",
   "execution_count": 8,
   "metadata": {},
   "outputs": [],
   "source": [
    "A01 = np.flipud(np.arange(0, 151, 1))\n",
    "μ_ex = np.empty(len(A01))\n",
    "\n",
    "for i, A in enumerate(A01[:-1]):\n",
    "    φ01 = dpd_potential(A, r)\n",
    "    soln = solute.solve(φ01, monitor=verbose)\n",
    "    h01, c01, hq01 = soln.hr, soln.cr, soln.hq\n",
    "    μ_ex[i] = excess_chemical_potential(h01, c01, r)\n",
    "\n",
    "μ_ex[-1] = 0."
   ]
  },
  {
   "cell_type": "markdown",
   "metadata": {},
   "source": [
    "Plot the previously calculated chemical potentials:\n",
    "digitised from Fig 1 of Hendrikse *et al.*, PCCP **27**, 1554-66 (2025).\n"
   ]
  },
  {
   "cell_type": "code",
   "execution_count": 9,
   "metadata": {},
   "outputs": [
    {
     "data": {
      "image/png": "[encoded data removed]",
      "text/plain": [
       "<Figure size 243x216 with 1 Axes>"
      ]
     },
     "metadata": {
      "needs_background": "light"
     },
     "output_type": "display_data"
    }
   ],
   "source": [
    "plt.figure(figsize=(3.375, 3))\n",
    "plt.plot(A01/A00, μ_ex, '-', label='HNC')\n",
    "\n",
    "A01_ref, μ_ex_ref = np.genfromtxt('mu_dpd_hendrikse2025.csv', delimiter=',', comments='#').T\n",
    "plt.plot(A01_ref/A00, μ_ex_ref, 'o', mfc='None', label='Hendrikse (2025)', zorder=10)\n",
    "\n",
    "mu_rpa = ρ0 * np.pi * A01 / 15\n",
    "plt.plot(A01/A00, mu_rpa, '--', label='RPA')\n",
    "\n",
    "plt.xlabel(r'$A_{01} / A_{00}$')\n",
    "plt.ylabel(r'$\\mu_1^\\mathrm{ex}$')\n",
    "plt.legend(loc='best')\n",
    "plt.xlim([0, np.max(A01)/A00])\n",
    "plt.ylim([0, 30])\n",
    "\n",
    "plt.show()"
   ]
  },
  {
   "cell_type": "code",
   "execution_count": null,
   "metadata": {},
   "outputs": [],
   "source": []
  }
 ],
 "metadata": {
  "kernelspec": {
   "display_name": "Python 3 (ipykernel)",
   "language": "python",
   "name": "python3"
  },
  "language_info": {
   "codemirror_mode": {
    "name": "ipython",
    "version": 3
   },
   "file_extension": ".py",
   "mimetype": "text/x-python",
   "name": "python",
   "nbconvert_exporter": "python",
   "pygments_lexer": "ipython3",
   "version": "3.10.12"
  }
 },
 "nbformat": 4,
 "nbformat_minor": 2
}
